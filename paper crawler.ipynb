{
 "cells": [
  {
   "cell_type": "code",
   "execution_count": 8,
   "metadata": {
    "ExecuteTime": {
     "end_time": "2021-09-25T11:38:34.784875Z",
     "start_time": "2021-09-25T11:38:32.783660Z"
    }
   },
   "outputs": [],
   "source": [
    "import pandas as pd\n",
    "import matplotlib\n",
    "from bs4 import BeautifulSoup\n",
    "import codecs\n",
    "import requests\n",
    "url = 'https://www.liebertpub.com/loi/cyber/group/d1990.y1998'\n",
    "html = requests.get(url).text\n",
    "now = BeautifulSoup(html,'html.parser') "
   ]
  },
  {
   "cell_type": "code",
   "execution_count": 36,
   "metadata": {
    "ExecuteTime": {
     "end_time": "2021-09-25T11:53:34.648424Z",
     "start_time": "2021-09-25T11:53:34.630509Z"
    }
   },
   "outputs": [
    {
     "data": {
      "text/plain": [
       "[<a class=\"issue-info__vol-issue\" href=\"/toc/cpb/1/4\"> \n",
       " Vol. 1<span class=\"comma\"></span>Issue. 4</a>,\n",
       " <a class=\"issue-info__vol-issue\" href=\"/toc/cpb/1/3\"> \n",
       " Vol. 1<span class=\"comma\"></span>Issue. 3</a>,\n",
       " <a class=\"issue-info__vol-issue\" href=\"/toc/cpb/1/2\"> \n",
       " Vol. 1<span class=\"comma\"></span>Issue. 2</a>,\n",
       " <a class=\"issue-info__vol-issue\" href=\"/toc/cpb/1/1\"> \n",
       " Vol. 1<span class=\"comma\"></span>Issue. 1</a>]"
      ]
     },
     "execution_count": 36,
     "metadata": {},
     "output_type": "execute_result"
    }
   ],
   "source": [
    "s1=str(now.find_all(class_=\"issue-info__vol-issue\"))\n",
    "soup=BeautifulSoup(s1,'html.parser') \n",
    "soup.find_all('a')"
   ]
  },
  {
   "cell_type": "code",
   "execution_count": 44,
   "metadata": {
    "ExecuteTime": {
     "end_time": "2021-09-25T11:56:52.444445Z",
     "start_time": "2021-09-25T11:56:52.436954Z"
    }
   },
   "outputs": [
    {
     "name": "stdout",
     "output_type": "stream",
     "text": [
      "['https://www.liebertpub.com/toc/cpb/1/4', 'https://www.liebertpub.com/toc/cpb/1/3', 'https://www.liebertpub.com/toc/cpb/1/2', 'https://www.liebertpub.com/toc/cpb/1/1']\n"
     ]
    }
   ],
   "source": [
    "import re\n",
    "links = []\n",
    "for link in soup.findAll('a'):\n",
    "        links.append(\"https://www.liebertpub.com\"+link.get('href'))\n",
    "\n",
    "print(links)"
   ]
  },
  {
   "cell_type": "code",
   "execution_count": null,
   "metadata": {},
   "outputs": [],
   "source": [
    "\n",
    "for i in range()   \n",
    "    url = 'https://www.liebertpub.com/loi/cyber/group/d'\n",
    "    +str(i)+'.y'+str(j)"
   ]
  },
  {
   "cell_type": "code",
   "execution_count": 33,
   "metadata": {
    "ExecuteTime": {
     "end_time": "2021-09-25T11:51:15.746196Z",
     "start_time": "2021-09-25T11:51:14.323509Z"
    }
   },
   "outputs": [
    {
     "name": "stdout",
     "output_type": "stream",
     "text": [
      "['http://video.arstechnica.com/', 'http://arstechnica.com/?view=grid', 'http://arstechnica.com/?view=archive', 'http://arstechnica.com/?theme=light', 'http://arstechnica.com/?theme=dark', 'http://arstechnica.com/?view=mobile', 'http://condenast.com/']\n"
     ]
    }
   ],
   "source": [
    "html_page = requests.get(\"https://arstechnica.com\").text\n",
    "soup = BeautifulSoup(html_page,'html.parser')\n",
    "links = []\n",
    "\n",
    "for link in soup.findAll('a', attrs={'href': re.compile(\"^http://\")}):\n",
    "    links.append(link.get('href'))\n",
    "\n",
    "print(links)"
   ]
  },
  {
   "cell_type": "code",
   "execution_count": 151,
   "metadata": {
    "ExecuteTime": {
     "end_time": "2021-09-25T12:54:54.632503Z",
     "start_time": "2021-09-25T12:54:54.608567Z"
    }
   },
   "outputs": [
    {
     "data": {
      "text/plain": [
       "'This Journal'"
      ]
     },
     "execution_count": 151,
     "metadata": {},
     "output_type": "execute_result"
    }
   ],
   "source": [
    "s3=str(now.find_all(class_=\"tab__nav__item__link\"))\n",
    "sou=BeautifulSoup(s3,'html.parser') \n",
    "year=[]\n",
    "h=sou.get_text()\n",
    "\n",
    "sou.find('a').string"
   ]
  },
  {
   "cell_type": "code",
   "execution_count": 155,
   "metadata": {
    "ExecuteTime": {
     "end_time": "2021-09-25T12:58:17.458905Z",
     "start_time": "2021-09-25T12:58:17.451947Z"
    }
   },
   "outputs": [],
   "source": [
    "h=h.replace('[','')\n",
    "h=h.replace(']','')\n",
    "h=h.split(',')"
   ]
  },
  {
   "cell_type": "code",
   "execution_count": 156,
   "metadata": {
    "ExecuteTime": {
     "end_time": "2021-09-25T12:58:19.719619Z",
     "start_time": "2021-09-25T12:58:19.713636Z"
    },
    "scrolled": true
   },
   "outputs": [
    {
     "data": {
      "text/plain": [
       "['This Journal',\n",
       " ' Anywhere',\n",
       " ' 2020s',\n",
       " ' 2010s',\n",
       " ' 2000s',\n",
       " ' 1990s',\n",
       " ' 2021',\n",
       " ' 2020',\n",
       " ' 2019',\n",
       " ' 2018',\n",
       " ' 2017',\n",
       " ' 2016',\n",
       " ' 2015',\n",
       " ' 2014',\n",
       " ' 2013',\n",
       " ' 2012',\n",
       " ' 2011',\n",
       " ' 2010',\n",
       " ' 2009',\n",
       " ' 2008',\n",
       " ' 2007',\n",
       " ' 2006',\n",
       " ' 2005',\n",
       " ' 2004',\n",
       " ' 2003',\n",
       " ' 2002',\n",
       " ' 2001',\n",
       " ' 2000',\n",
       " ' 1999',\n",
       " ' 1998']"
      ]
     },
     "execution_count": 156,
     "metadata": {},
     "output_type": "execute_result"
    }
   ],
   "source": [
    "h"
   ]
  },
  {
   "cell_type": "code",
   "execution_count": 168,
   "metadata": {
    "ExecuteTime": {
     "end_time": "2021-09-25T13:09:07.181440Z",
     "start_time": "2021-09-25T13:09:07.177419Z"
    }
   },
   "outputs": [],
   "source": [
    "l0,l1=[],[]\n",
    "for s in h:\n",
    "    if(s.endswith('s')):\n",
    "        l0.append(int(s.replace('s','') ) )\n",
    "    else:\n",
    "        try:\n",
    "            l1.append(int(s))\n",
    "        except:\n",
    "            s=s"
   ]
  },
  {
   "cell_type": "code",
   "execution_count": 169,
   "metadata": {
    "ExecuteTime": {
     "end_time": "2021-09-25T13:09:08.582298Z",
     "start_time": "2021-09-25T13:09:08.567373Z"
    }
   },
   "outputs": [
    {
     "data": {
      "text/plain": [
       "[2020, 2010, 2000, 1990]"
      ]
     },
     "execution_count": 169,
     "metadata": {},
     "output_type": "execute_result"
    }
   ],
   "source": [
    "l0"
   ]
  },
  {
   "cell_type": "code",
   "execution_count": 183,
   "metadata": {
    "ExecuteTime": {
     "end_time": "2021-09-25T15:07:09.480725Z",
     "start_time": "2021-09-25T15:07:09.473744Z"
    },
    "scrolled": true
   },
   "outputs": [
    {
     "name": "stdout",
     "output_type": "stream",
     "text": [
      "https://www.liebertpub.com/loi/cyber/group/d2020.y2021\n",
      "https://www.liebertpub.com/loi/cyber/group/d2020.y2020\n",
      "https://www.liebertpub.com/loi/cyber/group/d2010.y2019\n",
      "https://www.liebertpub.com/loi/cyber/group/d2010.y2018\n",
      "https://www.liebertpub.com/loi/cyber/group/d2010.y2017\n",
      "https://www.liebertpub.com/loi/cyber/group/d2010.y2016\n",
      "https://www.liebertpub.com/loi/cyber/group/d2010.y2015\n",
      "https://www.liebertpub.com/loi/cyber/group/d2010.y2014\n",
      "https://www.liebertpub.com/loi/cyber/group/d2010.y2013\n",
      "https://www.liebertpub.com/loi/cyber/group/d2010.y2012\n",
      "https://www.liebertpub.com/loi/cyber/group/d2010.y2011\n",
      "https://www.liebertpub.com/loi/cyber/group/d2010.y2010\n",
      "https://www.liebertpub.com/loi/cyber/group/d2000.y2009\n",
      "https://www.liebertpub.com/loi/cyber/group/d2000.y2008\n",
      "https://www.liebertpub.com/loi/cyber/group/d2000.y2007\n",
      "https://www.liebertpub.com/loi/cyber/group/d2000.y2006\n",
      "https://www.liebertpub.com/loi/cyber/group/d2000.y2005\n",
      "https://www.liebertpub.com/loi/cyber/group/d2000.y2004\n",
      "https://www.liebertpub.com/loi/cyber/group/d2000.y2003\n",
      "https://www.liebertpub.com/loi/cyber/group/d2000.y2002\n",
      "https://www.liebertpub.com/loi/cyber/group/d2000.y2001\n",
      "https://www.liebertpub.com/loi/cyber/group/d2000.y2000\n",
      "https://www.liebertpub.com/loi/cyber/group/d1990.y1999\n",
      "https://www.liebertpub.com/loi/cyber/group/d1990.y1998\n"
     ]
    }
   ],
   "source": [
    "links=[]\n",
    "title=\"/loi/cyber/group/\"\n",
    "for i in l0:\n",
    "    for j in l1:\n",
    "        if(i<=j and j-i<10):\n",
    "            lin=(\"https://www.liebertpub.com\"\n",
    "                    +title\n",
    "                    +\"d\"+str(i)\n",
    "                    +\".y\"+str(j)\n",
    "                )\n",
    "            links.append(lin)\n",
    "            print(lin)"
   ]
  },
  {
   "cell_type": "code",
   "execution_count": 184,
   "metadata": {
    "ExecuteTime": {
     "end_time": "2021-09-25T15:08:25.353627Z",
     "start_time": "2021-09-25T15:07:25.130104Z"
    }
   },
   "outputs": [
    {
     "name": "stdout",
     "output_type": "stream",
     "text": [
      "https://www.liebertpub.com/toc/cyber/24/9\n",
      "https://www.liebertpub.com/toc/cyber/24/8\n",
      "https://www.liebertpub.com/toc/cyber/24/7\n",
      "https://www.liebertpub.com/toc/cyber/24/6\n",
      "https://www.liebertpub.com/toc/cyber/24/5\n",
      "https://www.liebertpub.com/toc/cyber/24/4\n",
      "https://www.liebertpub.com/toc/cyber/24/3\n",
      "https://www.liebertpub.com/toc/cyber/24/2\n",
      "https://www.liebertpub.com/toc/cyber/24/1\n",
      "https://www.liebertpub.com/toc/cyber/23/12\n",
      "https://www.liebertpub.com/toc/cyber/23/11\n",
      "https://www.liebertpub.com/toc/cyber/23/10\n",
      "https://www.liebertpub.com/toc/cyber/23/9\n",
      "https://www.liebertpub.com/toc/cyber/23/8\n",
      "https://www.liebertpub.com/toc/cyber/23/7\n",
      "https://www.liebertpub.com/toc/cyber/23/6\n",
      "https://www.liebertpub.com/toc/cyber/23/5\n",
      "https://www.liebertpub.com/toc/cyber/23/4\n",
      "https://www.liebertpub.com/toc/cyber/23/3\n",
      "https://www.liebertpub.com/toc/cyber/23/2\n",
      "https://www.liebertpub.com/toc/cyber/23/1\n",
      "https://www.liebertpub.com/toc/cyber/22/12\n",
      "https://www.liebertpub.com/toc/cyber/22/11\n",
      "https://www.liebertpub.com/toc/cyber/22/10\n",
      "https://www.liebertpub.com/toc/cyber/22/9\n",
      "https://www.liebertpub.com/toc/cyber/22/8\n",
      "https://www.liebertpub.com/toc/cyber/22/7\n",
      "https://www.liebertpub.com/toc/cyber/22/6\n",
      "https://www.liebertpub.com/toc/cyber/22/5\n",
      "https://www.liebertpub.com/toc/cyber/22/4\n",
      "https://www.liebertpub.com/toc/cyber/22/3\n",
      "https://www.liebertpub.com/toc/cyber/22/2\n",
      "https://www.liebertpub.com/toc/cyber/22/1\n",
      "https://www.liebertpub.com/toc/cyber/21/12\n",
      "https://www.liebertpub.com/toc/cyber/21/11\n",
      "https://www.liebertpub.com/toc/cyber/21/10\n",
      "https://www.liebertpub.com/toc/cyber/21/9\n",
      "https://www.liebertpub.com/toc/cyber/21/8\n",
      "https://www.liebertpub.com/toc/cyber/21/7\n",
      "https://www.liebertpub.com/toc/cyber/21/6\n",
      "https://www.liebertpub.com/toc/cyber/21/5\n",
      "https://www.liebertpub.com/toc/cyber/21/4\n",
      "https://www.liebertpub.com/toc/cyber/21/3\n",
      "https://www.liebertpub.com/toc/cyber/21/2\n",
      "https://www.liebertpub.com/toc/cyber/21/1\n",
      "https://www.liebertpub.com/toc/cyber/20/12\n",
      "https://www.liebertpub.com/toc/cyber/20/11\n",
      "https://www.liebertpub.com/toc/cyber/20/10\n",
      "https://www.liebertpub.com/toc/cyber/20/9\n",
      "https://www.liebertpub.com/toc/cyber/20/8\n",
      "https://www.liebertpub.com/toc/cyber/20/7\n",
      "https://www.liebertpub.com/toc/cyber/20/6\n",
      "https://www.liebertpub.com/toc/cyber/20/5\n",
      "https://www.liebertpub.com/toc/cyber/20/4\n",
      "https://www.liebertpub.com/toc/cyber/20/3\n",
      "https://www.liebertpub.com/toc/cyber/20/2\n",
      "https://www.liebertpub.com/toc/cyber/20/1\n",
      "https://www.liebertpub.com/toc/cyber/19/12\n",
      "https://www.liebertpub.com/toc/cyber/19/11\n",
      "https://www.liebertpub.com/toc/cyber/19/10\n",
      "https://www.liebertpub.com/toc/cyber/19/9\n",
      "https://www.liebertpub.com/toc/cyber/19/8\n",
      "https://www.liebertpub.com/toc/cyber/19/7\n",
      "https://www.liebertpub.com/toc/cyber/19/6\n",
      "https://www.liebertpub.com/toc/cyber/19/5\n",
      "https://www.liebertpub.com/toc/cyber/19/4\n",
      "https://www.liebertpub.com/toc/cyber/19/3\n",
      "https://www.liebertpub.com/toc/cyber/19/2\n",
      "https://www.liebertpub.com/toc/cyber/19/1\n",
      "https://www.liebertpub.com/toc/cyber/18/12\n",
      "https://www.liebertpub.com/toc/cyber/18/11\n",
      "https://www.liebertpub.com/toc/cyber/18/10\n",
      "https://www.liebertpub.com/toc/cyber/18/9\n",
      "https://www.liebertpub.com/toc/cyber/18/8\n",
      "https://www.liebertpub.com/toc/cyber/18/7\n",
      "https://www.liebertpub.com/toc/cyber/18/6\n",
      "https://www.liebertpub.com/toc/cyber/18/5\n",
      "https://www.liebertpub.com/toc/cyber/18/4\n",
      "https://www.liebertpub.com/toc/cyber/18/3\n",
      "https://www.liebertpub.com/toc/cyber/18/2\n",
      "https://www.liebertpub.com/toc/cyber/18/1\n",
      "https://www.liebertpub.com/toc/cyber/17/12\n",
      "https://www.liebertpub.com/toc/cyber/17/11\n",
      "https://www.liebertpub.com/toc/cyber/17/10\n",
      "https://www.liebertpub.com/toc/cyber/17/9\n",
      "https://www.liebertpub.com/toc/cyber/17/8\n",
      "https://www.liebertpub.com/toc/cyber/17/7\n",
      "https://www.liebertpub.com/toc/cyber/17/6\n",
      "https://www.liebertpub.com/toc/cyber/17/5\n",
      "https://www.liebertpub.com/toc/cyber/17/4\n",
      "https://www.liebertpub.com/toc/cyber/17/3\n",
      "https://www.liebertpub.com/toc/cyber/17/2\n",
      "https://www.liebertpub.com/toc/cyber/17/1\n",
      "https://www.liebertpub.com/toc/cyber/16/12\n",
      "https://www.liebertpub.com/toc/cyber/16/11\n",
      "https://www.liebertpub.com/toc/cyber/16/10\n",
      "https://www.liebertpub.com/toc/cyber/16/9\n",
      "https://www.liebertpub.com/toc/cyber/16/8\n",
      "https://www.liebertpub.com/toc/cyber/16/7\n",
      "https://www.liebertpub.com/toc/cyber/16/6\n",
      "https://www.liebertpub.com/toc/cyber/16/5\n",
      "https://www.liebertpub.com/toc/cyber/16/4\n",
      "https://www.liebertpub.com/toc/cyber/16/3\n",
      "https://www.liebertpub.com/toc/cyber/16/2\n",
      "https://www.liebertpub.com/toc/cyber/16/1\n",
      "https://www.liebertpub.com/toc/cyber/15/12\n",
      "https://www.liebertpub.com/toc/cyber/15/11\n",
      "https://www.liebertpub.com/toc/cyber/15/10\n",
      "https://www.liebertpub.com/toc/cyber/15/9\n",
      "https://www.liebertpub.com/toc/cyber/15/8\n",
      "https://www.liebertpub.com/toc/cyber/15/7\n",
      "https://www.liebertpub.com/toc/cyber/15/6\n",
      "https://www.liebertpub.com/toc/cyber/15/5\n",
      "https://www.liebertpub.com/toc/cyber/15/4\n",
      "https://www.liebertpub.com/toc/cyber/15/3\n",
      "https://www.liebertpub.com/toc/cyber/15/2\n",
      "https://www.liebertpub.com/toc/cyber/15/1\n",
      "https://www.liebertpub.com/toc/cyber/14/12\n",
      "https://www.liebertpub.com/toc/cyber/14/11\n",
      "https://www.liebertpub.com/toc/cyber/14/10\n",
      "https://www.liebertpub.com/toc/cyber/14/9\n",
      "https://www.liebertpub.com/toc/cyber/14/7-8\n",
      "https://www.liebertpub.com/toc/cyber/14/6\n",
      "https://www.liebertpub.com/toc/cyber/14/5\n",
      "https://www.liebertpub.com/toc/cyber/14/4\n",
      "https://www.liebertpub.com/toc/cyber/14/3\n",
      "https://www.liebertpub.com/toc/cyber/14/1-2\n",
      "https://www.liebertpub.com/toc/cyber/13/6\n",
      "https://www.liebertpub.com/toc/cyber/13/5\n",
      "https://www.liebertpub.com/toc/cyber/13/4\n",
      "https://www.liebertpub.com/toc/cyber/13/3\n",
      "https://www.liebertpub.com/toc/cyber/13/2\n",
      "https://www.liebertpub.com/toc/cyber/13/1\n",
      "https://www.liebertpub.com/toc/cpb/12/6\n",
      "https://www.liebertpub.com/toc/cpb/12/5\n",
      "https://www.liebertpub.com/toc/cpb/12/4\n",
      "https://www.liebertpub.com/toc/cpb/12/3\n",
      "https://www.liebertpub.com/toc/cpb/12/2\n",
      "https://www.liebertpub.com/toc/cpb/12/1\n",
      "https://www.liebertpub.com/toc/cpb/11/6\n",
      "https://www.liebertpub.com/toc/cpb/11/5\n",
      "https://www.liebertpub.com/toc/cpb/11/4\n",
      "https://www.liebertpub.com/toc/cpb/11/3\n",
      "https://www.liebertpub.com/toc/cpb/11/2\n",
      "https://www.liebertpub.com/toc/cpb/11/1\n",
      "https://www.liebertpub.com/toc/cpb/10/6\n",
      "https://www.liebertpub.com/toc/cpb/10/5\n",
      "https://www.liebertpub.com/toc/cpb/10/4\n",
      "https://www.liebertpub.com/toc/cpb/10/3\n",
      "https://www.liebertpub.com/toc/cpb/10/2\n",
      "https://www.liebertpub.com/toc/cpb/10/1\n",
      "https://www.liebertpub.com/toc/cpb/9/6\n",
      "https://www.liebertpub.com/toc/cpb/9/5\n",
      "https://www.liebertpub.com/toc/cpb/9/4\n",
      "https://www.liebertpub.com/toc/cpb/9/3\n",
      "https://www.liebertpub.com/toc/cpb/9/2\n",
      "https://www.liebertpub.com/toc/cpb/9/1\n",
      "https://www.liebertpub.com/toc/cpb/8/6\n",
      "https://www.liebertpub.com/toc/cpb/8/5\n",
      "https://www.liebertpub.com/toc/cpb/8/4\n",
      "https://www.liebertpub.com/toc/cpb/8/3\n",
      "https://www.liebertpub.com/toc/cpb/8/2\n",
      "https://www.liebertpub.com/toc/cpb/8/1\n",
      "https://www.liebertpub.com/toc/cpb/7/6\n",
      "https://www.liebertpub.com/toc/cpb/7/5\n",
      "https://www.liebertpub.com/toc/cpb/7/4\n",
      "https://www.liebertpub.com/toc/cpb/7/3\n",
      "https://www.liebertpub.com/toc/cpb/7/2\n",
      "https://www.liebertpub.com/toc/cpb/7/1\n",
      "https://www.liebertpub.com/toc/cpb/6/6\n",
      "https://www.liebertpub.com/toc/cpb/6/5\n",
      "https://www.liebertpub.com/toc/cpb/6/4\n",
      "https://www.liebertpub.com/toc/cpb/6/3\n",
      "https://www.liebertpub.com/toc/cpb/6/2\n",
      "https://www.liebertpub.com/toc/cpb/6/1\n",
      "https://www.liebertpub.com/toc/cpb/5/6\n",
      "https://www.liebertpub.com/toc/cpb/5/5\n",
      "https://www.liebertpub.com/toc/cpb/5/4\n",
      "https://www.liebertpub.com/toc/cpb/5/3\n",
      "https://www.liebertpub.com/toc/cpb/5/2\n",
      "https://www.liebertpub.com/toc/cpb/5/1\n",
      "https://www.liebertpub.com/toc/cpb/4/6\n",
      "https://www.liebertpub.com/toc/cpb/4/5\n",
      "https://www.liebertpub.com/toc/cpb/4/4\n",
      "https://www.liebertpub.com/toc/cpb/4/3\n",
      "https://www.liebertpub.com/toc/cpb/4/2\n",
      "https://www.liebertpub.com/toc/cpb/4/1\n",
      "https://www.liebertpub.com/toc/cpb/3/6\n",
      "https://www.liebertpub.com/toc/cpb/3/5\n",
      "https://www.liebertpub.com/toc/cpb/3/4\n",
      "https://www.liebertpub.com/toc/cpb/3/3\n",
      "https://www.liebertpub.com/toc/cpb/3/2\n",
      "https://www.liebertpub.com/toc/cpb/3/1\n",
      "https://www.liebertpub.com/toc/cpb/2/6\n",
      "https://www.liebertpub.com/toc/cpb/2/5\n",
      "https://www.liebertpub.com/toc/cpb/2/4\n",
      "https://www.liebertpub.com/toc/cpb/2/3\n",
      "https://www.liebertpub.com/toc/cpb/2/2\n",
      "https://www.liebertpub.com/toc/cpb/2/1\n"
     ]
    },
    {
     "name": "stdout",
     "output_type": "stream",
     "text": [
      "https://www.liebertpub.com/toc/cpb/1/4\n",
      "https://www.liebertpub.com/toc/cpb/1/3\n",
      "https://www.liebertpub.com/toc/cpb/1/2\n",
      "https://www.liebertpub.com/toc/cpb/1/1\n"
     ]
    }
   ],
   "source": [
    "linkss = []  \n",
    "for url in links:\n",
    "    try:\n",
    "        html = requests.get(url).text\n",
    "        now = BeautifulSoup(html,'html.parser')\n",
    "\n",
    "        s1=str(now.find_all(class_=\"issue-info__vol-issue\"))\n",
    "        soup=BeautifulSoup(s1,'html.parser') \n",
    "        soup.find_all('a')\n",
    "\n",
    "\n",
    "        \n",
    "        for link in soup.findAll('a'):\n",
    "                lin=\"https://www.liebertpub.com\"+link.get('href')\n",
    "                linkss.append(lin)\n",
    "                print(lin)\n",
    "    except:\n",
    "        print(\"-----\")"
   ]
  },
  {
   "cell_type": "code",
   "execution_count": null,
   "metadata": {},
   "outputs": [],
   "source": []
  }
 ],
 "metadata": {
  "kernelspec": {
   "display_name": "Python 3",
   "language": "python",
   "name": "python3"
  },
  "language_info": {
   "codemirror_mode": {
    "name": "ipython",
    "version": 3
   },
   "file_extension": ".py",
   "mimetype": "text/x-python",
   "name": "python",
   "nbconvert_exporter": "python",
   "pygments_lexer": "ipython3",
   "version": "3.7.6"
  },
  "toc": {
   "base_numbering": 1,
   "nav_menu": {},
   "number_sections": true,
   "sideBar": true,
   "skip_h1_title": false,
   "title_cell": "Table of Contents",
   "title_sidebar": "Contents",
   "toc_cell": false,
   "toc_position": {},
   "toc_section_display": true,
   "toc_window_display": false
  },
  "varInspector": {
   "cols": {
    "lenName": 16,
    "lenType": 16,
    "lenVar": 40
   },
   "kernels_config": {
    "python": {
     "delete_cmd_postfix": "",
     "delete_cmd_prefix": "del ",
     "library": "var_list.py",
     "varRefreshCmd": "print(var_dic_list())"
    },
    "r": {
     "delete_cmd_postfix": ") ",
     "delete_cmd_prefix": "rm(",
     "library": "var_list.r",
     "varRefreshCmd": "cat(var_dic_list()) "
    }
   },
   "types_to_exclude": [
    "module",
    "function",
    "builtin_function_or_method",
    "instance",
    "_Feature"
   ],
   "window_display": false
  }
 },
 "nbformat": 4,
 "nbformat_minor": 4
}
